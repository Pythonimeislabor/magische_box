{
 "cells": [
  {
   "cell_type": "code",
   "execution_count": 1,
   "id": "e5cfbefe-29cf-4883-aade-66c4026c2510",
   "metadata": {},
   "outputs": [],
   "source": [
    "import cv2 # Bildbearbeitung\n",
    "import matplotlib.pyplot as plt # Bilder anzeigen\n",
    "import os # Um Bilder in den Ordnern zu finden\n",
    "import numpy as np # Für Arrays mit denen Tensorflow umgehen kann\n",
    "import tensorflow as tf # für deep-learning / neuronale Netze"
   ]
  },
  {
   "cell_type": "code",
   "execution_count": 2,
   "id": "44155944-e0d6-4a93-bba4-d2405561d9ef",
   "metadata": {},
   "outputs": [],
   "source": [
    "#X = [bild1, bild2, bild3]\n",
    "#Y = [Beschriftung1, Beschriftung2, Beschriftung3]\n",
    "\n",
    "X = []\n",
    "Y = []\n",
    "\n",
    "def lade_bild(pfad): # Bild laden und vorverarbeiten\n",
    "  bild = cv2.imread(pfad) # bild lesen vom rgba-format\n",
    "  bild_in_grau = cv2.cvtColor(bild, cv2.COLOR_BGR2GRAY) # Alpha-Wert herausfiltern\n",
    "  bild_0_1 = bild_in_grau / 255 # bild zwischen 0 und 1 skalieren\n",
    "\n",
    "  return bild_0_1 # Bild an den Aufruf zurückgeben\n",
    "\n",
    "\n",
    "for zahl in range(11): # Wir haben ordner von 0 bis 9\n",
    "    pfad = \"unsere_daten/\"+str(zahl)+\"/\" # Pfad zusammenbauen\n",
    "    #print(\"zahl ist\", zahl, \"- Der Pfad ist\", pfad)\n",
    "    alle_bilder_namen = os.listdir(pfad) # alle bilder im pfad auflisten\n",
    "    for name in alle_bilder_namen: # alle bilder in dem Ordner durchgehen\n",
    "      if \".jpg\" in name:\n",
    "          pfad_zum_bild = pfad + name \n",
    "          bild = lade_bild(pfad_zum_bild)\n",
    "\n",
    "          X.append(bild) # Das Bild an X anhängen\n",
    "          Y.append(zahl) # Die zugehörige Zahl an Y anhängen"
   ]
  },
  {
   "cell_type": "code",
   "execution_count": 6,
   "id": "0d1a4708-cafb-4a35-926c-18b801a305ec",
   "metadata": {},
   "outputs": [
    {
     "name": "stdout",
     "output_type": "stream",
     "text": [
      "Es wird das Bild mit dem index 2760 angezeigt\n",
      "Y ist  10\n"
     ]
    },
    {
     "data": {
      "image/png": "[encoded data removed]",
      "text/plain": [
       "<Figure size 432x288 with 1 Axes>"
      ]
     },
     "metadata": {
      "needs_background": "light"
     },
     "output_type": "display_data"
    }
   ],
   "source": [
    "index = 2760\n",
    "\n",
    "print(\"Es wird das Bild mit dem index\", index, \"angezeigt\")\n",
    "plt.imshow(X[index], cmap = \"gray\"), \n",
    "print(\"Y ist \", Y[index])"
   ]
  },
  {
   "cell_type": "code",
   "execution_count": 4,
   "id": "123b9c8e-e311-4c92-812f-19cc1f0943df",
   "metadata": {},
   "outputs": [],
   "source": [
    "# listen in numpy arrays umwandeln\n",
    "Y = np.array(Y) # numpy arrays sind für viele Elemente eine bessere Speichermethode\n",
    "X = np.array(X) # tensorflow benötigt numpy arrays und kann nicht mit listen arbeiten\n",
    "\n",
    "# X und Y gleichmäßig mischen\n",
    "# X und Y werden so gemischt, dass Y[index] die Zahl enthält die in X[index] gespeichert ist\n",
    "p = np.random.permutation(Y.shape[0]) \n",
    "X = X[p]\n",
    "Y = Y[p] "
   ]
  },
  {
   "cell_type": "code",
   "execution_count": 5,
   "id": "5ba9e725-60d9-4917-b104-fc400992aecf",
   "metadata": {},
   "outputs": [
    {
     "data": {
      "text/plain": [
       "<matplotlib.image.AxesImage at 0x7f63bf28b0>"
      ]
     },
     "execution_count": 5,
     "metadata": {},
     "output_type": "execute_result"
    },
    {
     "data": {
      "image/png": "[encoded data removed]",
      "text/plain": [
       "<Figure size 432x288 with 1 Axes>"
      ]
     },
     "metadata": {
      "needs_background": "light"
     },
     "output_type": "display_data"
    }
   ],
   "source": [
    "random_gedreht = tf.keras.layers.RandomRotation((-0.05, 0.05))(X[3].reshape(1,28,28,1), training=True)\n",
    "random_verschieben = tf.keras.layers.RandomTranslation((-0.05,0.05), (-0.05,0.05)) (random_gedreht, training=True)\n",
    "random_Zoom = tf.keras.layers.RandomZoom((-0.3,0.1)) (random_verschieben, training=True)\n",
    "\n",
    "plt.imshow(random_Zoom.numpy()[0].reshape(28,28))"
   ]
  },
  {
   "cell_type": "code",
   "execution_count": 7,
   "id": "66259059-ac09-4b4e-a831-9813697965d2",
   "metadata": {},
   "outputs": [
    {
     "name": "stdout",
     "output_type": "stream",
     "text": [
      "\n",
      "Model: \"model\"\n",
      "_________________________________________________________________\n",
      " Layer (type)                Output Shape              Param #   \n",
      "=================================================================\n",
      " input_1 (InputLayer)        [(None, 28, 28)]          0         \n",
      "                                                                 \n",
      " reshape (Reshape)           (None, 28, 28, 1)         0         \n",
      "                                                                 \n",
      " random_rotation_1 (RandomRo  (None, 28, 28, 1)        0         \n",
      " tation)                                                         \n",
      "                                                                 \n",
      " random_translation_1 (Rando  (None, 28, 28, 1)        0         \n",
      " mTranslation)                                                   \n",
      "                                                                 \n",
      " random_zoom_1 (RandomZoom)  (None, 28, 28, 1)         0         \n",
      "                                                                 \n",
      " conv2d (Conv2D)             (None, 22, 22, 16)        800       \n",
      "                                                                 \n",
      " dropout (Dropout)           (None, 22, 22, 16)        0         \n",
      "                                                                 \n",
      " max_pooling2d (MaxPooling2D  (None, 11, 11, 16)       0         \n",
      " )                                                               \n",
      "                                                                 \n",
      " conv2d_1 (Conv2D)           (None, 9, 9, 16)          2320      \n",
      "                                                                 \n",
      " dropout_1 (Dropout)         (None, 9, 9, 16)          0         \n",
      "                                                                 \n",
      " max_pooling2d_1 (MaxPooling  (None, 4, 4, 16)         0         \n",
      " 2D)                                                             \n",
      "                                                                 \n",
      " conv2d_2 (Conv2D)           (None, 4, 4, 3)           51        \n",
      "                                                                 \n",
      " flatten (Flatten)           (None, 48)                0         \n",
      "                                                                 \n",
      " dense (Dense)               (None, 16)                784       \n",
      "                                                                 \n",
      " dropout_2 (Dropout)         (None, 16)                0         \n",
      "                                                                 \n",
      " dense_1 (Dense)             (None, 8)                 136       \n",
      "                                                                 \n",
      " dropout_3 (Dropout)         (None, 8)                 0         \n",
      "                                                                 \n",
      " dense_2 (Dense)             (None, 11)                88        \n",
      "                                                                 \n",
      "=================================================================\n",
      "Total params: 4,179\n",
      "Trainable params: 4,179\n",
      "Non-trainable params: 0\n",
      "_________________________________________________________________\n"
     ]
    }
   ],
   "source": [
    "inputlayer = tf.keras.layers.Input(shape=(28,28)) # unser Bild hat die Form [Höhe, Breite]\n",
    "\n",
    "bild_3_d = tf.keras.layers.Reshape((28,28,1)) (inputlayer)\n",
    "\n",
    "random_gedreht = tf.keras.layers.RandomRotation((-0.05, 0.05))(bild_3_d)\n",
    "random_verschieben = tf.keras.layers.RandomTranslation((-0.2,0.2), (-0.2,0.2)) (random_gedreht)\n",
    "random_Zoom = tf.keras.layers.RandomZoom((-0.3,0.1)) (random_verschieben)\n",
    "\n",
    "filter_1 = tf.keras.layers.Conv2D(16,7, activation=\"relu\") (random_Zoom)\n",
    "drop1 = tf.keras.layers.Dropout(0.2)(filter_1)\n",
    "pool1 = tf.keras.layers.MaxPooling2D()(drop1)\n",
    "\n",
    "filter_2 = tf.keras.layers.Conv2D(16,3, activation=\"relu\") (pool1)\n",
    "drop2 = tf.keras.layers.Dropout(0.2)(filter_2)\n",
    "pool2 = tf.keras.layers.MaxPooling2D()(drop2)\n",
    "\n",
    "filter_3 = tf.keras.layers.Conv2D(3,1, activation=\"relu\") (pool2) # von 5x5x16 auf 5x5x5\n",
    "\n",
    "\n",
    "platt = tf.keras.layers.Flatten()(filter_3)\n",
    "\n",
    "x = tf.keras.layers.Dense(16,activation=\"relu\")(platt)\n",
    "x = tf.keras.layers.Dropout(0.2)(x)\n",
    "x = tf.keras.layers.Dense(8,activation=\"relu\")(x)\n",
    "x = tf.keras.layers.Dropout(0.2)(x)\n",
    "\n",
    "output = tf.keras.layers.Dense(11,activation=\"softmax\", use_bias = False)(x)\n",
    "\n",
    "model = tf.keras.Model(inputlayer, output)\n",
    "print(\"\")\n",
    "model.summary()"
   ]
  },
  {
   "cell_type": "code",
   "execution_count": 8,
   "id": "7b187bb2-2b02-463b-8754-e3a31c7a644f",
   "metadata": {},
   "outputs": [],
   "source": [
    "fehlerfunktion = tf.keras.losses.SparseCategoricalCrossentropy()\n",
    "optimierer = tf.keras.optimizers.Adam(0.002)\n",
    "model.compile(optimierer, fehlerfunktion, metrics=\"accuracy\")"
   ]
  },
  {
   "cell_type": "code",
   "execution_count": null,
   "id": "44a3d2ca-aa11-47d1-93d6-51f92300243d",
   "metadata": {},
   "outputs": [
    {
     "name": "stderr",
     "output_type": "stream",
     "text": [
      "2022-03-30 10:35:25.711511: W tensorflow/core/framework/cpu_allocator_impl.cc:82] Allocation of 37829568 exceeds 10% of free system memory.\n"
     ]
    },
    {
     "name": "stdout",
     "output_type": "stream",
     "text": [
      "Epoch 1/100\n",
      "  2/754 [..............................] - ETA: 1:19 - loss: 2.3971 - accuracy: 0.2500   "
     ]
    },
    {
     "name": "stderr",
     "output_type": "stream",
     "text": [
      "2022-03-30 10:35:39.207422: W tensorflow/core/framework/cpu_allocator_impl.cc:82] Allocation of 22878208 exceeds 10% of free system memory.\n",
      "2022-03-30 10:35:39.223796: W tensorflow/core/framework/cpu_allocator_impl.cc:82] Allocation of 22878208 exceeds 10% of free system memory.\n",
      "2022-03-30 10:35:39.245528: W tensorflow/core/framework/cpu_allocator_impl.cc:82] Allocation of 24074496 exceeds 10% of free system memory.\n",
      "2022-03-30 10:35:39.246982: W tensorflow/core/framework/cpu_allocator_impl.cc:82] Allocation of 24074496 exceeds 10% of free system memory.\n"
     ]
    },
    {
     "name": "stdout",
     "output_type": "stream",
     "text": [
      "754/754 [==============================] - ETA: 0s - loss: 2.3628 - accuracy: 0.1230"
     ]
    }
   ],
   "source": [
    "model.fit(X, Y, batch_size = 16, epochs = 100, validation_split = 0.2) # Parameter optimieren"
   ]
  },
  {
   "cell_type": "code",
   "execution_count": null,
   "id": "41d31d1b-5164-4818-a4da-3bf7a5fe7ea0",
   "metadata": {},
   "outputs": [],
   "source": [
    "model.save(\"model.h5\") # Netzwerk und Parameter speichern"
   ]
  },
  {
   "cell_type": "code",
   "execution_count": null,
   "id": "4e77dabd-cc60-4fd6-b232-2f47f31b1389",
   "metadata": {},
   "outputs": [],
   "source": []
  }
 ],
 "metadata": {
  "kernelspec": {
   "display_name": "Python 3 (ipykernel)",
   "language": "python",
   "name": "python3"
  },
  "language_info": {
   "codemirror_mode": {
    "name": "ipython",
    "version": 3
   },
   "file_extension": ".py",
   "mimetype": "text/x-python",
   "name": "python",
   "nbconvert_exporter": "python",
   "pygments_lexer": "ipython3",
   "version": "3.9.2"
  }
 },
 "nbformat": 4,
 "nbformat_minor": 5
}
