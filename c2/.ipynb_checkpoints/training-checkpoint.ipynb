{
 "cells": [
  {
   "cell_type": "code",
   "execution_count": 1,
   "id": "e5cfbefe-29cf-4883-aade-66c4026c2510",
   "metadata": {},
   "outputs": [],
   "source": [
    "import cv2 # Bildbearbeitung\n",
    "import matplotlib.pyplot as plt # Bilder anzeigen\n",
    "import os # Um Bilder in den Ordnern zu finden\n",
    "import numpy as np # Für Arrays mit denen Tensorflow umgehen kann\n",
    "import tensorflow as tf # für deep-learning / neuronale Netze"
   ]
  },
  {
   "cell_type": "code",
   "execution_count": 2,
   "id": "44155944-e0d6-4a93-bba4-d2405561d9ef",
   "metadata": {},
   "outputs": [],
   "source": [
    "#X = [bild1, bild2, bild3]\n",
    "#Y = [Beschriftung1, Beschriftung2, Beschriftung3]\n",
    "\n",
    "X = []\n",
    "Y = []\n",
    "\n",
    "def lade_bild(pfad): # Bild laden und vorverarbeiten\n",
    "  bild = cv2.imread(pfad) # bild lesen vom rgba-format\n",
    "  bild_in_grau = cv2.cvtColor(bild, cv2.COLOR_BGR2GRAY) # Alpha-Wert herausfiltern\n",
    "  bild_0_1 = bild_in_grau / 255 # bild zwischen 0 und 1 skalieren\n",
    "\n",
    "  return bild_0_1 # Bild an den Aufruf zurückgeben\n",
    "\n",
    "\n",
    "for zahl in range(4): # Wir haben ordner von 0 bis 9\n",
    "    pfad = \"unsere_daten/\"+str(zahl)+\"/\" # Pfad zusammenbauen\n",
    "    #print(\"zahl ist\", zahl, \"- Der Pfad ist\", pfad)\n",
    "    alle_bilder_namen = os.listdir(pfad) # alle bilder im pfad auflisten\n",
    "    for name in alle_bilder_namen: # alle bilder in dem Ordner durchgehen\n",
    "      if \".jpg\" in name:\n",
    "          pfad_zum_bild = pfad + name \n",
    "          bild = lade_bild(pfad_zum_bild)\n",
    "\n",
    "          X.append(bild) # Das Bild an X anhängen\n",
    "          Y.append(zahl) # Die zugehörige Zahl an Y anhängen"
   ]
  },
  {
   "cell_type": "code",
   "execution_count": 8,
   "id": "0d1a4708-cafb-4a35-926c-18b801a305ec",
   "metadata": {},
   "outputs": [
    {
     "name": "stdout",
     "output_type": "stream",
     "text": [
      "Es wird das Bild mit dem index 100 angezeigt\n",
      "Y ist  1\n"
     ]
    },
    {
     "data": {
      "image/png": "[encoded data removed]",
      "text/plain": [
       "<Figure size 432x288 with 1 Axes>"
      ]
     },
     "metadata": {
      "needs_background": "light"
     },
     "output_type": "display_data"
    }
   ],
   "source": [
    "index = 100\n",
    "\n",
    "print(\"Es wird das Bild mit dem index\", index, \"angezeigt\")\n",
    "plt.imshow(X[index], cmap = \"gray\"), \n",
    "print(\"Y ist \", Y[index])"
   ]
  },
  {
   "cell_type": "code",
   "execution_count": 4,
   "id": "123b9c8e-e311-4c92-812f-19cc1f0943df",
   "metadata": {},
   "outputs": [],
   "source": [
    "# listen in numpy arrays umwandeln\n",
    "Y = np.array(Y) # numpy arrays sind für viele Elemente eine bessere Speichermethode\n",
    "X = np.array(X) # tensorflow benötigt numpy arrays und kann nicht mit listen arbeiten\n",
    "\n",
    "# X und Y gleichmäßig mischen\n",
    "# X und Y werden so gemischt, dass Y[index] die Zahl enthält die in X[index] gespeichert ist\n",
    "p = np.random.permutation(Y.shape[0]) \n",
    "X = X[p]\n",
    "Y = Y[p] "
   ]
  },
  {
   "cell_type": "code",
   "execution_count": 20,
   "id": "5ba9e725-60d9-4917-b104-fc400992aecf",
   "metadata": {},
   "outputs": [
    {
     "data": {
      "text/plain": [
       "<matplotlib.image.AxesImage at 0x7f5da75d60>"
      ]
     },
     "execution_count": 20,
     "metadata": {},
     "output_type": "execute_result"
    },
    {
     "data": {
      "image/png": "[encoded data removed]",
      "text/plain": [
       "<Figure size 432x288 with 1 Axes>"
      ]
     },
     "metadata": {
      "needs_background": "light"
     },
     "output_type": "display_data"
    }
   ],
   "source": [
    "random_gedreht = tf.keras.layers.RandomRotation((-0.2, 0.2))(X[100].reshape(1,28,28,1), training=True)\n",
    "random_verschieben = tf.keras.layers.RandomTranslation((-0.2,0.2), (-0.2,0.2)) (random_gedreht, training=True)\n",
    "random_Zoom = tf.keras.layers.RandomZoom((-0.2,0.1)) (random_verschieben, training=True)\n",
    "\n",
    "plt.imshow(random_Zoom.numpy()[0].reshape(28,28))"
   ]
  },
  {
   "cell_type": "code",
   "execution_count": 21,
   "id": "66259059-ac09-4b4e-a831-9813697965d2",
   "metadata": {},
   "outputs": [
    {
     "name": "stdout",
     "output_type": "stream",
     "text": [
      "\n",
      "Model: \"model\"\n",
      "_________________________________________________________________\n",
      " Layer (type)                Output Shape              Param #   \n",
      "=================================================================\n",
      " input_1 (InputLayer)        [(None, 28, 28)]          0         \n",
      "                                                                 \n",
      " reshape (Reshape)           (None, 28, 28, 1)         0         \n",
      "                                                                 \n",
      " random_rotation_13 (RandomR  (None, 28, 28, 1)        0         \n",
      " otation)                                                        \n",
      "                                                                 \n",
      " random_translation_13 (Rand  (None, 28, 28, 1)        0         \n",
      " omTranslation)                                                  \n",
      "                                                                 \n",
      " random_zoom_13 (RandomZoom)  (None, 28, 28, 1)        0         \n",
      "                                                                 \n",
      " conv2d (Conv2D)             (None, 24, 24, 16)        416       \n",
      "                                                                 \n",
      " dropout (Dropout)           (None, 24, 24, 16)        0         \n",
      "                                                                 \n",
      " conv2d_1 (Conv2D)           (None, 22, 22, 16)        2320      \n",
      "                                                                 \n",
      " dropout_1 (Dropout)         (None, 22, 22, 16)        0         \n",
      "                                                                 \n",
      " conv2d_2 (Conv2D)           (None, 22, 22, 5)         85        \n",
      "                                                                 \n",
      " flatten (Flatten)           (None, 2420)              0         \n",
      "                                                                 \n",
      " dense (Dense)               (None, 16)                38736     \n",
      "                                                                 \n",
      " dropout_2 (Dropout)         (None, 16)                0         \n",
      "                                                                 \n",
      " dense_1 (Dense)             (None, 8)                 136       \n",
      "                                                                 \n",
      " dropout_3 (Dropout)         (None, 8)                 0         \n",
      "                                                                 \n",
      " dense_2 (Dense)             (None, 4)                 32        \n",
      "                                                                 \n",
      "=================================================================\n",
      "Total params: 41,725\n",
      "Trainable params: 41,725\n",
      "Non-trainable params: 0\n",
      "_________________________________________________________________\n"
     ]
    }
   ],
   "source": [
    "inputlayer = tf.keras.layers.Input(shape=(28,28)) # unser Bild hat die Form [Höhe, Breite]\n",
    "\n",
    "bild_3_d = tf.keras.layers.Reshape((28,28,1)) (inputlayer)\n",
    "\n",
    "random_gedreht = tf.keras.layers.RandomRotation((-0.2, 0.2))(bild_3_d)\n",
    "random_verschieben = tf.keras.layers.RandomTranslation((-0.2,0.2), (-0.2,0.2)) (random_gedreht)\n",
    "random_Zoom = tf.keras.layers.RandomZoom((-0.2,0.1)) (random_verschieben)\n",
    "\n",
    "filter_1 = tf.keras.layers.Conv2D(16,5, activation=\"relu\") (random_Zoom)\n",
    "drop1 = tf.keras.layers.Dropout(0.2)(filter_1)\n",
    "\n",
    "\n",
    "filter_2 = tf.keras.layers.Conv2D(16,3, activation=\"relu\") (drop1)\n",
    "drop2 = tf.keras.layers.Dropout(0.2)(filter_2)\n",
    "\n",
    "filter_3 = tf.keras.layers.Conv2D(5,1, activation=\"relu\") (drop2) # von 5x5x16 auf 5x5x5\n",
    "\n",
    "\n",
    "platt = tf.keras.layers.Flatten()(filter_3)\n",
    "\n",
    "x = tf.keras.layers.Dense(16,activation=\"relu\")(platt)\n",
    "x = tf.keras.layers.Dropout(0.2)(x)\n",
    "x = tf.keras.layers.Dense(8,activation=\"relu\")(x)\n",
    "x = tf.keras.layers.Dropout(0.2)(x)\n",
    "output = tf.keras.layers.Dense(4,activation=\"softmax\", use_bias = False)(x)\n",
    "\n",
    "model = tf.keras.Model(inputlayer, output)\n",
    "print(\"\")\n",
    "model.summary()"
   ]
  },
  {
   "cell_type": "code",
   "execution_count": 22,
   "id": "7b187bb2-2b02-463b-8754-e3a31c7a644f",
   "metadata": {},
   "outputs": [],
   "source": [
    "fehlerfunktion = tf.keras.losses.SparseCategoricalCrossentropy()\n",
    "optimierer = tf.keras.optimizers.Adam(0.001)\n",
    "model.compile(optimierer, fehlerfunktion, metrics=\"accuracy\")"
   ]
  },
  {
   "cell_type": "code",
   "execution_count": null,
   "id": "44a3d2ca-aa11-47d1-93d6-51f92300243d",
   "metadata": {},
   "outputs": [
    {
     "name": "stdout",
     "output_type": "stream",
     "text": [
      "Epoch 1/100\n",
      "  2/239 [..............................] - ETA: 27s - loss: 1.3746 - accuracy: 0.2500      "
     ]
    },
    {
     "name": "stderr",
     "output_type": "stream",
     "text": [
      "2022-03-30 06:34:25.231021: W tensorflow/core/framework/cpu_allocator_impl.cc:82] Allocation of 23789568 exceeds 10% of free system memory.\n",
      "2022-03-30 06:34:25.233020: W tensorflow/core/framework/cpu_allocator_impl.cc:82] Allocation of 23789568 exceeds 10% of free system memory.\n",
      "2022-03-30 06:34:25.253250: W tensorflow/core/framework/cpu_allocator_impl.cc:82] Allocation of 27599616 exceeds 10% of free system memory.\n",
      "2022-03-30 06:34:25.253555: W tensorflow/core/framework/cpu_allocator_impl.cc:82] Allocation of 27599616 exceeds 10% of free system memory.\n",
      "2022-03-30 06:34:25.291179: W tensorflow/core/framework/cpu_allocator_impl.cc:82] Allocation of 18892800 exceeds 10% of free system memory.\n"
     ]
    },
    {
     "name": "stdout",
     "output_type": "stream",
     "text": [
      "239/239 [==============================] - 35s 113ms/step - loss: 1.3725 - accuracy: 0.2843 - val_loss: 1.3649 - val_accuracy: 0.3368\n",
      "Epoch 2/100\n",
      "239/239 [==============================] - 26s 108ms/step - loss: 1.3482 - accuracy: 0.3236 - val_loss: 1.3807 - val_accuracy: 0.3096\n",
      "Epoch 3/100\n",
      "239/239 [==============================] - 24s 102ms/step - loss: 1.3023 - accuracy: 0.3660 - val_loss: 1.3885 - val_accuracy: 0.2741\n",
      "Epoch 4/100\n",
      "239/239 [==============================] - 26s 108ms/step - loss: 1.2390 - accuracy: 0.3796 - val_loss: 1.4088 - val_accuracy: 0.2845\n",
      "Epoch 5/100\n",
      "239/239 [==============================] - 26s 108ms/step - loss: 1.1270 - accuracy: 0.4398 - val_loss: 1.5590 - val_accuracy: 0.2448\n",
      "Epoch 6/100\n",
      "239/239 [==============================] - 24s 102ms/step - loss: 1.0851 - accuracy: 0.4702 - val_loss: 1.0528 - val_accuracy: 0.5209\n",
      "Epoch 7/100\n",
      "239/239 [==============================] - 25s 103ms/step - loss: 1.0371 - accuracy: 0.5325 - val_loss: 1.1355 - val_accuracy: 0.4017\n",
      "Epoch 8/100\n",
      "239/239 [==============================] - 26s 107ms/step - loss: 1.0043 - accuracy: 0.5455 - val_loss: 0.8508 - val_accuracy: 0.6883\n",
      "Epoch 9/100\n",
      "239/239 [==============================] - 26s 107ms/step - loss: 0.9708 - accuracy: 0.5565 - val_loss: 0.9836 - val_accuracy: 0.5607\n",
      "Epoch 10/100\n",
      "239/239 [==============================] - 24s 103ms/step - loss: 0.9463 - accuracy: 0.5895 - val_loss: 1.1196 - val_accuracy: 0.5335\n",
      "Epoch 11/100\n",
      "239/239 [==============================] - 26s 107ms/step - loss: 0.8650 - accuracy: 0.6267 - val_loss: 0.7439 - val_accuracy: 0.7008\n",
      "Epoch 12/100\n",
      "239/239 [==============================] - 30s 126ms/step - loss: 0.8782 - accuracy: 0.6340 - val_loss: 0.9904 - val_accuracy: 0.5628\n",
      "Epoch 13/100\n",
      "239/239 [==============================] - 27s 113ms/step - loss: 0.8412 - accuracy: 0.6555 - val_loss: 0.7298 - val_accuracy: 0.7176\n",
      "Epoch 14/100\n",
      "239/239 [==============================] - 24s 99ms/step - loss: 0.8258 - accuracy: 0.6272 - val_loss: 0.8108 - val_accuracy: 0.6506\n",
      "Epoch 15/100\n",
      "239/239 [==============================] - 25s 103ms/step - loss: 0.8336 - accuracy: 0.6382 - val_loss: 0.7287 - val_accuracy: 0.6987\n",
      "Epoch 16/100\n",
      "239/239 [==============================] - 19s 80ms/step - loss: 0.8114 - accuracy: 0.6539 - val_loss: 0.7435 - val_accuracy: 0.6695\n",
      "Epoch 17/100\n",
      "239/239 [==============================] - 21s 89ms/step - loss: 0.7667 - accuracy: 0.6785 - val_loss: 0.7387 - val_accuracy: 0.7050\n",
      "Epoch 18/100\n",
      "239/239 [==============================] - 19s 79ms/step - loss: 0.7670 - accuracy: 0.6691 - val_loss: 0.7446 - val_accuracy: 0.6946\n",
      "Epoch 19/100\n",
      "239/239 [==============================] - 17s 72ms/step - loss: 0.7706 - accuracy: 0.6791 - val_loss: 0.6989 - val_accuracy: 0.7050\n",
      "Epoch 20/100\n",
      "239/239 [==============================] - 17s 73ms/step - loss: 0.7594 - accuracy: 0.6812 - val_loss: 0.7974 - val_accuracy: 0.6674\n",
      "Epoch 21/100\n",
      "239/239 [==============================] - 24s 99ms/step - loss: 0.7463 - accuracy: 0.6853 - val_loss: 0.7192 - val_accuracy: 0.6841\n",
      "Epoch 22/100\n",
      "239/239 [==============================] - 19s 80ms/step - loss: 0.7460 - accuracy: 0.6995 - val_loss: 0.6705 - val_accuracy: 0.7238\n",
      "Epoch 23/100\n",
      "239/239 [==============================] - 20s 85ms/step - loss: 0.7157 - accuracy: 0.7000 - val_loss: 0.8272 - val_accuracy: 0.6527\n",
      "Epoch 24/100\n",
      "239/239 [==============================] - 20s 84ms/step - loss: 0.6879 - accuracy: 0.7194 - val_loss: 0.9280 - val_accuracy: 0.6360\n",
      "Epoch 25/100\n",
      "239/239 [==============================] - 22s 91ms/step - loss: 0.7001 - accuracy: 0.7136 - val_loss: 0.8499 - val_accuracy: 0.6611\n",
      "Epoch 26/100\n",
      "239/239 [==============================] - 18s 77ms/step - loss: 0.6820 - accuracy: 0.7068 - val_loss: 0.7317 - val_accuracy: 0.6925\n",
      "Epoch 27/100\n",
      " 88/239 [==========>...................] - ETA: 11s - loss: 0.7164 - accuracy: 0.7017"
     ]
    }
   ],
   "source": [
    "model.fit(X, Y, batch_size = 8, epochs = 100, validation_split = 0.2) # Parameter optimieren"
   ]
  },
  {
   "cell_type": "code",
   "execution_count": null,
   "id": "41d31d1b-5164-4818-a4da-3bf7a5fe7ea0",
   "metadata": {},
   "outputs": [],
   "source": [
    "model.save(\"model.h5\") # Netzwerk und Parameter speichern"
   ]
  },
  {
   "cell_type": "code",
   "execution_count": null,
   "id": "4e77dabd-cc60-4fd6-b232-2f47f31b1389",
   "metadata": {},
   "outputs": [],
   "source": []
  }
 ],
 "metadata": {
  "kernelspec": {
   "display_name": "Python 3 (ipykernel)",
   "language": "python",
   "name": "python3"
  },
  "language_info": {
   "codemirror_mode": {
    "name": "ipython",
    "version": 3
   },
   "file_extension": ".py",
   "mimetype": "text/x-python",
   "name": "python",
   "nbconvert_exporter": "python",
   "pygments_lexer": "ipython3",
   "version": "3.9.2"
  }
 },
 "nbformat": 4,
 "nbformat_minor": 5
}
